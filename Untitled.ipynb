{
 "cells": [
  {
   "cell_type": "code",
   "execution_count": 1,
   "id": "223fbadf",
   "metadata": {},
   "outputs": [],
   "source": [
    "import pandas as pd\n",
    "import matplotlib.pyplot as plt\n",
    "%matplotlib inline"
   ]
  },
  {
   "cell_type": "code",
   "execution_count": 2,
   "id": "0d07c97c",
   "metadata": {},
   "outputs": [],
   "source": [
    "df = pd.read_csv('lol_03_2022_matchs.csv')\n",
    "df.drop('index',axis=1,inplace=True)"
   ]
  },
  {
   "cell_type": "code",
   "execution_count": 3,
   "id": "22fcf64d",
   "metadata": {},
   "outputs": [
    {
     "data": {
      "text/html": [
       "<div>\n",
       "<style scoped>\n",
       "    .dataframe tbody tr th:only-of-type {\n",
       "        vertical-align: middle;\n",
       "    }\n",
       "\n",
       "    .dataframe tbody tr th {\n",
       "        vertical-align: top;\n",
       "    }\n",
       "\n",
       "    .dataframe thead th {\n",
       "        text-align: right;\n",
       "    }\n",
       "</style>\n",
       "<table border=\"1\" class=\"dataframe\">\n",
       "  <thead>\n",
       "    <tr style=\"text-align: right;\">\n",
       "      <th></th>\n",
       "      <th>Bchamp1</th>\n",
       "      <th>Bchamp2</th>\n",
       "      <th>Bchamp3</th>\n",
       "      <th>Bchamp4</th>\n",
       "      <th>Bchamp5</th>\n",
       "      <th>Rchamp1</th>\n",
       "      <th>Rchamp2</th>\n",
       "      <th>Rchamp3</th>\n",
       "      <th>Rchamp4</th>\n",
       "      <th>Rchamp5</th>\n",
       "      <th>Bwins</th>\n",
       "    </tr>\n",
       "  </thead>\n",
       "  <tbody>\n",
       "    <tr>\n",
       "      <th>0</th>\n",
       "      <td>Tryndamere</td>\n",
       "      <td>Graves</td>\n",
       "      <td>AurelionSol</td>\n",
       "      <td>Samira</td>\n",
       "      <td>Nautilus</td>\n",
       "      <td>Irelia</td>\n",
       "      <td>Hecarim</td>\n",
       "      <td>Kaisa</td>\n",
       "      <td>Draven</td>\n",
       "      <td>Karma</td>\n",
       "      <td>False</td>\n",
       "    </tr>\n",
       "    <tr>\n",
       "      <th>1</th>\n",
       "      <td>Azir</td>\n",
       "      <td>Yone</td>\n",
       "      <td>RekSai</td>\n",
       "      <td>Jinx</td>\n",
       "      <td>TahmKench</td>\n",
       "      <td>Ziggs</td>\n",
       "      <td>MasterYi</td>\n",
       "      <td>Seraphine</td>\n",
       "      <td>Aphelios</td>\n",
       "      <td>Kaisa</td>\n",
       "      <td>True</td>\n",
       "    </tr>\n",
       "    <tr>\n",
       "      <th>2</th>\n",
       "      <td>Aatrox</td>\n",
       "      <td>Ezreal</td>\n",
       "      <td>Ahri</td>\n",
       "      <td>LeeSin</td>\n",
       "      <td>Leona</td>\n",
       "      <td>Kennen</td>\n",
       "      <td>Volibear</td>\n",
       "      <td>Sylas</td>\n",
       "      <td>Xayah</td>\n",
       "      <td>Rakan</td>\n",
       "      <td>False</td>\n",
       "    </tr>\n",
       "    <tr>\n",
       "      <th>3</th>\n",
       "      <td>Jayce</td>\n",
       "      <td>Viego</td>\n",
       "      <td>Karma</td>\n",
       "      <td>Jinx</td>\n",
       "      <td>Nautilus</td>\n",
       "      <td>Tryndamere</td>\n",
       "      <td>Kayn</td>\n",
       "      <td>Leblanc</td>\n",
       "      <td>Ezreal</td>\n",
       "      <td>Sett</td>\n",
       "      <td>False</td>\n",
       "    </tr>\n",
       "    <tr>\n",
       "      <th>4</th>\n",
       "      <td>Tryndamere</td>\n",
       "      <td>Nidalee</td>\n",
       "      <td>Xayah</td>\n",
       "      <td>Zeri</td>\n",
       "      <td>Alistar</td>\n",
       "      <td>Vayne</td>\n",
       "      <td>RekSai</td>\n",
       "      <td>Syndra</td>\n",
       "      <td>Kaisa</td>\n",
       "      <td>Nautilus</td>\n",
       "      <td>True</td>\n",
       "    </tr>\n",
       "    <tr>\n",
       "      <th>...</th>\n",
       "      <td>...</td>\n",
       "      <td>...</td>\n",
       "      <td>...</td>\n",
       "      <td>...</td>\n",
       "      <td>...</td>\n",
       "      <td>...</td>\n",
       "      <td>...</td>\n",
       "      <td>...</td>\n",
       "      <td>...</td>\n",
       "      <td>...</td>\n",
       "      <td>...</td>\n",
       "    </tr>\n",
       "    <tr>\n",
       "      <th>589</th>\n",
       "      <td>Vladimir</td>\n",
       "      <td>Diana</td>\n",
       "      <td>Talon</td>\n",
       "      <td>Caitlyn</td>\n",
       "      <td>Karma</td>\n",
       "      <td>Kennen</td>\n",
       "      <td>Volibear</td>\n",
       "      <td>Ahri</td>\n",
       "      <td>Jinx</td>\n",
       "      <td>Nautilus</td>\n",
       "      <td>False</td>\n",
       "    </tr>\n",
       "    <tr>\n",
       "      <th>590</th>\n",
       "      <td>Jayce</td>\n",
       "      <td>Nidalee</td>\n",
       "      <td>Galio</td>\n",
       "      <td>Aphelios</td>\n",
       "      <td>Renata</td>\n",
       "      <td>Camille</td>\n",
       "      <td>Viego</td>\n",
       "      <td>TwistedFate</td>\n",
       "      <td>Jinx</td>\n",
       "      <td>Thresh</td>\n",
       "      <td>True</td>\n",
       "    </tr>\n",
       "    <tr>\n",
       "      <th>591</th>\n",
       "      <td>Gnar</td>\n",
       "      <td>Nidalee</td>\n",
       "      <td>Renekton</td>\n",
       "      <td>Ezreal</td>\n",
       "      <td>Renata</td>\n",
       "      <td>Yone</td>\n",
       "      <td>LeeSin</td>\n",
       "      <td>Seraphine</td>\n",
       "      <td>Zeri</td>\n",
       "      <td>Karma</td>\n",
       "      <td>True</td>\n",
       "    </tr>\n",
       "    <tr>\n",
       "      <th>592</th>\n",
       "      <td>JarvanIV</td>\n",
       "      <td>RekSai</td>\n",
       "      <td>Kaisa</td>\n",
       "      <td>Kalista</td>\n",
       "      <td>Renata</td>\n",
       "      <td>Kennen</td>\n",
       "      <td>LeeSin</td>\n",
       "      <td>Ahri</td>\n",
       "      <td>Ashe</td>\n",
       "      <td>Nautilus</td>\n",
       "      <td>True</td>\n",
       "    </tr>\n",
       "    <tr>\n",
       "      <th>593</th>\n",
       "      <td>Irelia</td>\n",
       "      <td>Volibear</td>\n",
       "      <td>Xayah</td>\n",
       "      <td>Twitch</td>\n",
       "      <td>Leona</td>\n",
       "      <td>Lulu</td>\n",
       "      <td>Blitzcrank</td>\n",
       "      <td>Ahri</td>\n",
       "      <td>Draven</td>\n",
       "      <td>LeeSin</td>\n",
       "      <td>True</td>\n",
       "    </tr>\n",
       "  </tbody>\n",
       "</table>\n",
       "<p>594 rows × 11 columns</p>\n",
       "</div>"
      ],
      "text/plain": [
       "        Bchamp1   Bchamp2      Bchamp3   Bchamp4    Bchamp5     Rchamp1  \\\n",
       "0    Tryndamere    Graves  AurelionSol    Samira   Nautilus      Irelia   \n",
       "1          Azir      Yone       RekSai      Jinx  TahmKench       Ziggs   \n",
       "2        Aatrox    Ezreal         Ahri    LeeSin      Leona      Kennen   \n",
       "3         Jayce     Viego        Karma      Jinx   Nautilus  Tryndamere   \n",
       "4    Tryndamere   Nidalee        Xayah      Zeri    Alistar       Vayne   \n",
       "..          ...       ...          ...       ...        ...         ...   \n",
       "589    Vladimir     Diana        Talon   Caitlyn      Karma      Kennen   \n",
       "590       Jayce   Nidalee        Galio  Aphelios     Renata     Camille   \n",
       "591        Gnar   Nidalee     Renekton    Ezreal     Renata        Yone   \n",
       "592    JarvanIV    RekSai        Kaisa   Kalista     Renata      Kennen   \n",
       "593      Irelia  Volibear        Xayah    Twitch      Leona        Lulu   \n",
       "\n",
       "        Rchamp2      Rchamp3   Rchamp4   Rchamp5  Bwins  \n",
       "0       Hecarim        Kaisa    Draven     Karma  False  \n",
       "1      MasterYi    Seraphine  Aphelios     Kaisa   True  \n",
       "2      Volibear        Sylas     Xayah     Rakan  False  \n",
       "3          Kayn      Leblanc    Ezreal      Sett  False  \n",
       "4        RekSai       Syndra     Kaisa  Nautilus   True  \n",
       "..          ...          ...       ...       ...    ...  \n",
       "589    Volibear         Ahri      Jinx  Nautilus  False  \n",
       "590       Viego  TwistedFate      Jinx    Thresh   True  \n",
       "591      LeeSin    Seraphine      Zeri     Karma   True  \n",
       "592      LeeSin         Ahri      Ashe  Nautilus   True  \n",
       "593  Blitzcrank         Ahri    Draven    LeeSin   True  \n",
       "\n",
       "[594 rows x 11 columns]"
      ]
     },
     "execution_count": 3,
     "metadata": {},
     "output_type": "execute_result"
    }
   ],
   "source": [
    "df"
   ]
  },
  {
   "cell_type": "code",
   "execution_count": 4,
   "id": "efb0bfd8",
   "metadata": {},
   "outputs": [],
   "source": [
    "bchamps = []\n",
    "for i in range(1,6):\n",
    "    most_choosed = dict(df[df['Bwins']==True][f'Bchamp{i}'].value_counts().head(10))\n",
    "    bchamps.append(most_choosed)"
   ]
  },
  {
   "cell_type": "code",
   "execution_count": 5,
   "id": "da8ac04b",
   "metadata": {},
   "outputs": [],
   "source": [
    "rchamps = []\n",
    "for i in range(1,6):\n",
    "    most_choosed = dict(df[df['Bwins']==False][f'Rchamp{i}'].value_counts().head(10))\n",
    "    rchamps.append(most_choosed)"
   ]
  },
  {
   "cell_type": "code",
   "execution_count": 6,
   "id": "2131b7bb",
   "metadata": {},
   "outputs": [],
   "source": [
    "from collections import Counter\n",
    "\n",
    "champs = []\n",
    "for i in range(5):\n",
    "    champs.append(dict(Counter(rchamps[i])+Counter(bchamps[i])))"
   ]
  },
  {
   "cell_type": "code",
   "execution_count": 8,
   "id": "a0bda173",
   "metadata": {},
   "outputs": [
    {
     "data": {
      "image/png": "[encoded data removed]",
      "text/plain": [
       "<Figure size 432x288 with 1 Axes>"
      ]
     },
     "metadata": {
      "needs_background": "light"
     },
     "output_type": "display_data"
    },
    {
     "data": {
      "image/png": "[encoded data removed]",
      "text/plain": [
       "<Figure size 432x288 with 1 Axes>"
      ]
     },
     "metadata": {
      "needs_background": "light"
     },
     "output_type": "display_data"
    },
    {
     "data": {
      "image/png": "[encoded data removed]",
      "text/plain": [
       "<Figure size 432x288 with 1 Axes>"
      ]
     },
     "metadata": {
      "needs_background": "light"
     },
     "output_type": "display_data"
    },
    {
     "data": {
      "image/png": "[encoded data removed]",
      "text/plain": [
       "<Figure size 432x288 with 1 Axes>"
      ]
     },
     "metadata": {
      "needs_background": "light"
     },
     "output_type": "display_data"
    },
    {
     "data": {
      "image/png": "[encoded data removed]",
      "text/plain": [
       "<Figure size 432x288 with 1 Axes>"
      ]
     },
     "metadata": {
      "needs_background": "light"
     },
     "output_type": "display_data"
    }
   ],
   "source": [
    "import seaborn as sns\n",
    "\n",
    "for i in range(5):\n",
    "    sns.barplot(y=list(champs[i].keys()),x=list(champs[i].values()))\n",
    "    plt.xlim((0,100))\n",
    "    plt.show()"
   ]
  },
  {
   "cell_type": "code",
   "execution_count": null,
   "id": "6aa5d166",
   "metadata": {},
   "outputs": [],
   "source": []
  }
 ],
 "metadata": {
  "kernelspec": {
   "display_name": "Python 3",
   "language": "python",
   "name": "python3"
  },
  "language_info": {
   "codemirror_mode": {
    "name": "ipython",
    "version": 3
   },
   "file_extension": ".py",
   "mimetype": "text/x-python",
   "name": "python",
   "nbconvert_exporter": "python",
   "pygments_lexer": "ipython3",
   "version": "3.9.7"
  }
 },
 "nbformat": 4,
 "nbformat_minor": 5
}
